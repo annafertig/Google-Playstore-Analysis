{
  "nbformat": 4,
  "nbformat_minor": 0,
  "metadata": {
    "colab": {
      "name": "Google_Playstore.ipynb",
      "provenance": [],
      "collapsed_sections": [],
      "machine_shape": "hm",
      "authorship_tag": "ABX9TyNn6/LoCXZYpUI/tvj+7FRg",
      "include_colab_link": true
    },
    "kernelspec": {
      "name": "python3",
      "display_name": "Python 3"
    },
    "language_info": {
      "name": "python"
    },
    "accelerator": "GPU",
    "gpuClass": "standard"
  },
  "cells": [
    {
      "cell_type": "markdown",
      "metadata": {
        "id": "view-in-github",
        "colab_type": "text"
      },
      "source": [
        "<a href=\"https://colab.research.google.com/github/annafertig/Google-Playstore-Analysis/blob/main/Google_Playstore.ipynb\" target=\"_parent\"><img src=\"https://colab.research.google.com/assets/colab-badge.svg\" alt=\"Open In Colab\"/></a>"
      ]
    },
    {
      "cell_type": "code",
      "execution_count": 1,
      "metadata": {
        "id": "Sc5Rav2AWuUQ"
      },
      "outputs": [],
      "source": [
        "import pandas as pd\n",
        "import numpy as np\n",
        "from google.colab import drive\n",
        "import seaborn as sns\n",
        "import matplotlib.pyplot as plt"
      ]
    },
    {
      "cell_type": "code",
      "source": [
        "drive.mount('/content/drive')"
      ],
      "metadata": {
        "id": "CdYXl9WNW8te",
        "colab": {
          "base_uri": "https://localhost:8080/"
        },
        "outputId": "63586af0-ea60-4c0a-fe88-5b63810f3215"
      },
      "execution_count": 2,
      "outputs": [
        {
          "output_type": "stream",
          "name": "stdout",
          "text": [
            "Mounted at /content/drive\n"
          ]
        }
      ]
    },
    {
      "cell_type": "code",
      "source": [
        "my_data = pd.read_csv('/content/drive/MyDrive/Anna/Google-Playstore.csv')\n",
        "print(my_data.shape)"
      ],
      "metadata": {
        "id": "ozC5py-uXpdr",
        "colab": {
          "base_uri": "https://localhost:8080/"
        },
        "outputId": "e9f781b7-cb34-4e47-ccef-fb67acb78078"
      },
      "execution_count": 3,
      "outputs": [
        {
          "output_type": "stream",
          "name": "stdout",
          "text": [
            "(2312944, 24)\n"
          ]
        }
      ]
    },
    {
      "cell_type": "code",
      "source": [
        "my_data.columns"
      ],
      "metadata": {
        "colab": {
          "base_uri": "https://localhost:8080/"
        },
        "id": "85YmVDVPYPy1",
        "outputId": "2bb29c85-98df-4fc7-9e2e-896c8a08af5c"
      },
      "execution_count": 4,
      "outputs": [
        {
          "output_type": "execute_result",
          "data": {
            "text/plain": [
              "Index(['App Name', 'App Id', 'Category', 'Rating', 'Rating Count', 'Installs',\n",
              "       'Minimum Installs', 'Maximum Installs', 'Free', 'Price', 'Currency',\n",
              "       'Size', 'Minimum Android', 'Developer Id', 'Developer Website',\n",
              "       'Developer Email', 'Released', 'Last Updated', 'Content Rating',\n",
              "       'Privacy Policy', 'Ad Supported', 'In App Purchases', 'Editors Choice',\n",
              "       'Scraped Time'],\n",
              "      dtype='object')"
            ]
          },
          "metadata": {},
          "execution_count": 4
        }
      ]
    },
    {
      "cell_type": "code",
      "source": [
        "my_data"
      ],
      "metadata": {
        "colab": {
          "base_uri": "https://localhost:8080/",
          "height": 922
        },
        "id": "0N89VYUSoYBZ",
        "outputId": "b3141879-326f-4409-df91-b5e9b40c15ac"
      },
      "execution_count": 5,
      "outputs": [
        {
          "output_type": "execute_result",
          "data": {
            "text/plain": [
              "                                                  App Name  \\\n",
              "0                                                  Gakondo   \n",
              "1                                      Ampere Battery Info   \n",
              "2                                                   Vibook   \n",
              "3        Smart City Trichy Public Service Vehicles 17UC...   \n",
              "4                                                  GROW.me   \n",
              "...                                                    ...   \n",
              "2312939                                           大俠客—熱血歸來   \n",
              "2312940                                         ORU Online   \n",
              "2312941                                     Data Structure   \n",
              "2312942                                        Devi Suktam   \n",
              "2312943                       Biliyor Musun - Sonsuz Yarış   \n",
              "\n",
              "                                       App Id       Category  Rating  \\\n",
              "0                         com.ishakwe.gakondo      Adventure     0.0   \n",
              "1                  com.webserveis.batteryinfo          Tools     4.4   \n",
              "2                        com.doantiepvien.crm   Productivity     0.0   \n",
              "3                     cst.stJoseph.ug17ucs548  Communication     5.0   \n",
              "4                        com.horodyski.grower          Tools     0.0   \n",
              "...                                       ...            ...     ...   \n",
              "2312939                         com.rxsj.ssjj   Role Playing     4.3   \n",
              "2312940              com.threedream.oruonline      Education     0.0   \n",
              "2312941  datastructure.appoworld.datastucture      Education     0.0   \n",
              "2312942                     ishan.devi.suktam  Music & Audio     3.5   \n",
              "2312943             com.yyazilim.biliyormusun         Trivia     5.0   \n",
              "\n",
              "         Rating Count  Installs  Minimum Installs  Maximum Installs  Free  \\\n",
              "0                 0.0       10+              10.0                15  True   \n",
              "1                64.0    5,000+            5000.0              7662  True   \n",
              "2                 0.0       50+              50.0                58  True   \n",
              "3                 5.0       10+              10.0                19  True   \n",
              "4                 0.0      100+             100.0               478  True   \n",
              "...               ...       ...               ...               ...   ...   \n",
              "2312939       16775.0  100,000+          100000.0            337109  True   \n",
              "2312940           0.0      100+             100.0               430  True   \n",
              "2312941           0.0      100+             100.0               202  True   \n",
              "2312942           8.0    1,000+            1000.0              2635  True   \n",
              "2312943          12.0      100+             100.0               354  True   \n",
              "\n",
              "         Price  ...                  Developer Website  \\\n",
              "0          0.0  ...        https://beniyizibyose.tk/#/   \n",
              "1          0.0  ...    https://webserveis.netlify.app/   \n",
              "2          0.0  ...                                NaN   \n",
              "3          0.0  ...   http://www.climatesmarttech.com/   \n",
              "4          0.0  ...        http://www.horodyski.com.pl   \n",
              "...        ...  ...                                ...   \n",
              "2312939    0.0  ...          http://www.4399sy.com.hk/   \n",
              "2312940    0.0  ...                http://www.oru.edu/   \n",
              "2312941    0.0  ...                                NaN   \n",
              "2312942    0.0  ...  https://a70f78905.app-ads-txt.com   \n",
              "2312943    0.0  ...                                NaN   \n",
              "\n",
              "                      Developer Email      Released  Last Updated  \\\n",
              "0              jean21101999@gmail.com  Feb 26, 2020  Feb 26, 2020   \n",
              "1                webserveis@gmail.com  May 21, 2020  May 06, 2021   \n",
              "2                 vnacrewit@gmail.com   Aug 9, 2019  Aug 19, 2019   \n",
              "3         climatesmarttech2@gmail.com  Sep 10, 2018  Oct 13, 2018   \n",
              "4           rmilekhorodyski@gmail.com  Feb 21, 2020  Nov 12, 2018   \n",
              "...                               ...           ...           ...   \n",
              "2312939           ssjjcomhk@gmail.com           NaN  Jun 01, 2021   \n",
              "2312940     3DreamDeveloper@gmail.com  Jan 17, 2018  Feb 02, 2018   \n",
              "2312941  appoworld.official@gmail.com  Aug 19, 2018  Aug 19, 2018   \n",
              "2312942           ruchisono@gmail.com   Aug 1, 2016  May 05, 2021   \n",
              "2312943     yyazilimdevelop@gmail.com   Aug 9, 2019  Aug 19, 2019   \n",
              "\n",
              "        Content Rating                                     Privacy Policy  \\\n",
              "0             Everyone                 https://beniyizibyose.tk/projects/   \n",
              "1             Everyone  https://dev4phones.wordpress.com/licencia-de-uso/   \n",
              "2             Everyone  https://www.vietnamairlines.com/vn/en/terms-an...   \n",
              "3             Everyone                                                NaN   \n",
              "4             Everyone                        http://www.horodyski.com.pl   \n",
              "...                ...                                                ...   \n",
              "2312939           Teen             http://a.4399sy.com.hk/user/aggreement   \n",
              "2312940       Everyone    http://www.oru.edu/about-oru/privacy-policy.php   \n",
              "2312941       Everyone  https://appoworld.000webhostapp.com/datastruct...   \n",
              "2312942       Everyone  https://docs.google.com/document/d/1x-9reZuLRX...   \n",
              "2312943       Everyone  https://biliyor-musun-sons.flycricket.io/priva...   \n",
              "\n",
              "        Ad Supported In App Purchases Editors Choice         Scraped Time  \n",
              "0              False            False          False  2021-06-15 20:19:35  \n",
              "1               True            False          False  2021-06-15 20:19:35  \n",
              "2              False            False          False  2021-06-15 20:19:35  \n",
              "3               True            False          False  2021-06-15 20:19:35  \n",
              "4              False            False          False  2021-06-15 20:19:35  \n",
              "...              ...              ...            ...                  ...  \n",
              "2312939        False            False          False  2021-06-16 12:59:18  \n",
              "2312940        False            False          False  2021-06-16 12:59:19  \n",
              "2312941        False            False          False  2021-06-16 12:59:19  \n",
              "2312942         True            False          False  2021-06-16 12:59:19  \n",
              "2312943         True            False          False  2021-06-16 12:59:19  \n",
              "\n",
              "[2312944 rows x 24 columns]"
            ],
            "text/html": [
              "\n",
              "  <div id=\"df-8e321c74-c81c-4fb9-967b-f51b2934fae6\">\n",
              "    <div class=\"colab-df-container\">\n",
              "      <div>\n",
              "<style scoped>\n",
              "    .dataframe tbody tr th:only-of-type {\n",
              "        vertical-align: middle;\n",
              "    }\n",
              "\n",
              "    .dataframe tbody tr th {\n",
              "        vertical-align: top;\n",
              "    }\n",
              "\n",
              "    .dataframe thead th {\n",
              "        text-align: right;\n",
              "    }\n",
              "</style>\n",
              "<table border=\"1\" class=\"dataframe\">\n",
              "  <thead>\n",
              "    <tr style=\"text-align: right;\">\n",
              "      <th></th>\n",
              "      <th>App Name</th>\n",
              "      <th>App Id</th>\n",
              "      <th>Category</th>\n",
              "      <th>Rating</th>\n",
              "      <th>Rating Count</th>\n",
              "      <th>Installs</th>\n",
              "      <th>Minimum Installs</th>\n",
              "      <th>Maximum Installs</th>\n",
              "      <th>Free</th>\n",
              "      <th>Price</th>\n",
              "      <th>...</th>\n",
              "      <th>Developer Website</th>\n",
              "      <th>Developer Email</th>\n",
              "      <th>Released</th>\n",
              "      <th>Last Updated</th>\n",
              "      <th>Content Rating</th>\n",
              "      <th>Privacy Policy</th>\n",
              "      <th>Ad Supported</th>\n",
              "      <th>In App Purchases</th>\n",
              "      <th>Editors Choice</th>\n",
              "      <th>Scraped Time</th>\n",
              "    </tr>\n",
              "  </thead>\n",
              "  <tbody>\n",
              "    <tr>\n",
              "      <th>0</th>\n",
              "      <td>Gakondo</td>\n",
              "      <td>com.ishakwe.gakondo</td>\n",
              "      <td>Adventure</td>\n",
              "      <td>0.0</td>\n",
              "      <td>0.0</td>\n",
              "      <td>10+</td>\n",
              "      <td>10.0</td>\n",
              "      <td>15</td>\n",
              "      <td>True</td>\n",
              "      <td>0.0</td>\n",
              "      <td>...</td>\n",
              "      <td>https://beniyizibyose.tk/#/</td>\n",
              "      <td>jean21101999@gmail.com</td>\n",
              "      <td>Feb 26, 2020</td>\n",
              "      <td>Feb 26, 2020</td>\n",
              "      <td>Everyone</td>\n",
              "      <td>https://beniyizibyose.tk/projects/</td>\n",
              "      <td>False</td>\n",
              "      <td>False</td>\n",
              "      <td>False</td>\n",
              "      <td>2021-06-15 20:19:35</td>\n",
              "    </tr>\n",
              "    <tr>\n",
              "      <th>1</th>\n",
              "      <td>Ampere Battery Info</td>\n",
              "      <td>com.webserveis.batteryinfo</td>\n",
              "      <td>Tools</td>\n",
              "      <td>4.4</td>\n",
              "      <td>64.0</td>\n",
              "      <td>5,000+</td>\n",
              "      <td>5000.0</td>\n",
              "      <td>7662</td>\n",
              "      <td>True</td>\n",
              "      <td>0.0</td>\n",
              "      <td>...</td>\n",
              "      <td>https://webserveis.netlify.app/</td>\n",
              "      <td>webserveis@gmail.com</td>\n",
              "      <td>May 21, 2020</td>\n",
              "      <td>May 06, 2021</td>\n",
              "      <td>Everyone</td>\n",
              "      <td>https://dev4phones.wordpress.com/licencia-de-uso/</td>\n",
              "      <td>True</td>\n",
              "      <td>False</td>\n",
              "      <td>False</td>\n",
              "      <td>2021-06-15 20:19:35</td>\n",
              "    </tr>\n",
              "    <tr>\n",
              "      <th>2</th>\n",
              "      <td>Vibook</td>\n",
              "      <td>com.doantiepvien.crm</td>\n",
              "      <td>Productivity</td>\n",
              "      <td>0.0</td>\n",
              "      <td>0.0</td>\n",
              "      <td>50+</td>\n",
              "      <td>50.0</td>\n",
              "      <td>58</td>\n",
              "      <td>True</td>\n",
              "      <td>0.0</td>\n",
              "      <td>...</td>\n",
              "      <td>NaN</td>\n",
              "      <td>vnacrewit@gmail.com</td>\n",
              "      <td>Aug 9, 2019</td>\n",
              "      <td>Aug 19, 2019</td>\n",
              "      <td>Everyone</td>\n",
              "      <td>https://www.vietnamairlines.com/vn/en/terms-an...</td>\n",
              "      <td>False</td>\n",
              "      <td>False</td>\n",
              "      <td>False</td>\n",
              "      <td>2021-06-15 20:19:35</td>\n",
              "    </tr>\n",
              "    <tr>\n",
              "      <th>3</th>\n",
              "      <td>Smart City Trichy Public Service Vehicles 17UC...</td>\n",
              "      <td>cst.stJoseph.ug17ucs548</td>\n",
              "      <td>Communication</td>\n",
              "      <td>5.0</td>\n",
              "      <td>5.0</td>\n",
              "      <td>10+</td>\n",
              "      <td>10.0</td>\n",
              "      <td>19</td>\n",
              "      <td>True</td>\n",
              "      <td>0.0</td>\n",
              "      <td>...</td>\n",
              "      <td>http://www.climatesmarttech.com/</td>\n",
              "      <td>climatesmarttech2@gmail.com</td>\n",
              "      <td>Sep 10, 2018</td>\n",
              "      <td>Oct 13, 2018</td>\n",
              "      <td>Everyone</td>\n",
              "      <td>NaN</td>\n",
              "      <td>True</td>\n",
              "      <td>False</td>\n",
              "      <td>False</td>\n",
              "      <td>2021-06-15 20:19:35</td>\n",
              "    </tr>\n",
              "    <tr>\n",
              "      <th>4</th>\n",
              "      <td>GROW.me</td>\n",
              "      <td>com.horodyski.grower</td>\n",
              "      <td>Tools</td>\n",
              "      <td>0.0</td>\n",
              "      <td>0.0</td>\n",
              "      <td>100+</td>\n",
              "      <td>100.0</td>\n",
              "      <td>478</td>\n",
              "      <td>True</td>\n",
              "      <td>0.0</td>\n",
              "      <td>...</td>\n",
              "      <td>http://www.horodyski.com.pl</td>\n",
              "      <td>rmilekhorodyski@gmail.com</td>\n",
              "      <td>Feb 21, 2020</td>\n",
              "      <td>Nov 12, 2018</td>\n",
              "      <td>Everyone</td>\n",
              "      <td>http://www.horodyski.com.pl</td>\n",
              "      <td>False</td>\n",
              "      <td>False</td>\n",
              "      <td>False</td>\n",
              "      <td>2021-06-15 20:19:35</td>\n",
              "    </tr>\n",
              "    <tr>\n",
              "      <th>...</th>\n",
              "      <td>...</td>\n",
              "      <td>...</td>\n",
              "      <td>...</td>\n",
              "      <td>...</td>\n",
              "      <td>...</td>\n",
              "      <td>...</td>\n",
              "      <td>...</td>\n",
              "      <td>...</td>\n",
              "      <td>...</td>\n",
              "      <td>...</td>\n",
              "      <td>...</td>\n",
              "      <td>...</td>\n",
              "      <td>...</td>\n",
              "      <td>...</td>\n",
              "      <td>...</td>\n",
              "      <td>...</td>\n",
              "      <td>...</td>\n",
              "      <td>...</td>\n",
              "      <td>...</td>\n",
              "      <td>...</td>\n",
              "      <td>...</td>\n",
              "    </tr>\n",
              "    <tr>\n",
              "      <th>2312939</th>\n",
              "      <td>大俠客—熱血歸來</td>\n",
              "      <td>com.rxsj.ssjj</td>\n",
              "      <td>Role Playing</td>\n",
              "      <td>4.3</td>\n",
              "      <td>16775.0</td>\n",
              "      <td>100,000+</td>\n",
              "      <td>100000.0</td>\n",
              "      <td>337109</td>\n",
              "      <td>True</td>\n",
              "      <td>0.0</td>\n",
              "      <td>...</td>\n",
              "      <td>http://www.4399sy.com.hk/</td>\n",
              "      <td>ssjjcomhk@gmail.com</td>\n",
              "      <td>NaN</td>\n",
              "      <td>Jun 01, 2021</td>\n",
              "      <td>Teen</td>\n",
              "      <td>http://a.4399sy.com.hk/user/aggreement</td>\n",
              "      <td>False</td>\n",
              "      <td>False</td>\n",
              "      <td>False</td>\n",
              "      <td>2021-06-16 12:59:18</td>\n",
              "    </tr>\n",
              "    <tr>\n",
              "      <th>2312940</th>\n",
              "      <td>ORU Online</td>\n",
              "      <td>com.threedream.oruonline</td>\n",
              "      <td>Education</td>\n",
              "      <td>0.0</td>\n",
              "      <td>0.0</td>\n",
              "      <td>100+</td>\n",
              "      <td>100.0</td>\n",
              "      <td>430</td>\n",
              "      <td>True</td>\n",
              "      <td>0.0</td>\n",
              "      <td>...</td>\n",
              "      <td>http://www.oru.edu/</td>\n",
              "      <td>3DreamDeveloper@gmail.com</td>\n",
              "      <td>Jan 17, 2018</td>\n",
              "      <td>Feb 02, 2018</td>\n",
              "      <td>Everyone</td>\n",
              "      <td>http://www.oru.edu/about-oru/privacy-policy.php</td>\n",
              "      <td>False</td>\n",
              "      <td>False</td>\n",
              "      <td>False</td>\n",
              "      <td>2021-06-16 12:59:19</td>\n",
              "    </tr>\n",
              "    <tr>\n",
              "      <th>2312941</th>\n",
              "      <td>Data Structure</td>\n",
              "      <td>datastructure.appoworld.datastucture</td>\n",
              "      <td>Education</td>\n",
              "      <td>0.0</td>\n",
              "      <td>0.0</td>\n",
              "      <td>100+</td>\n",
              "      <td>100.0</td>\n",
              "      <td>202</td>\n",
              "      <td>True</td>\n",
              "      <td>0.0</td>\n",
              "      <td>...</td>\n",
              "      <td>NaN</td>\n",
              "      <td>appoworld.official@gmail.com</td>\n",
              "      <td>Aug 19, 2018</td>\n",
              "      <td>Aug 19, 2018</td>\n",
              "      <td>Everyone</td>\n",
              "      <td>https://appoworld.000webhostapp.com/datastruct...</td>\n",
              "      <td>False</td>\n",
              "      <td>False</td>\n",
              "      <td>False</td>\n",
              "      <td>2021-06-16 12:59:19</td>\n",
              "    </tr>\n",
              "    <tr>\n",
              "      <th>2312942</th>\n",
              "      <td>Devi Suktam</td>\n",
              "      <td>ishan.devi.suktam</td>\n",
              "      <td>Music &amp; Audio</td>\n",
              "      <td>3.5</td>\n",
              "      <td>8.0</td>\n",
              "      <td>1,000+</td>\n",
              "      <td>1000.0</td>\n",
              "      <td>2635</td>\n",
              "      <td>True</td>\n",
              "      <td>0.0</td>\n",
              "      <td>...</td>\n",
              "      <td>https://a70f78905.app-ads-txt.com</td>\n",
              "      <td>ruchisono@gmail.com</td>\n",
              "      <td>Aug 1, 2016</td>\n",
              "      <td>May 05, 2021</td>\n",
              "      <td>Everyone</td>\n",
              "      <td>https://docs.google.com/document/d/1x-9reZuLRX...</td>\n",
              "      <td>True</td>\n",
              "      <td>False</td>\n",
              "      <td>False</td>\n",
              "      <td>2021-06-16 12:59:19</td>\n",
              "    </tr>\n",
              "    <tr>\n",
              "      <th>2312943</th>\n",
              "      <td>Biliyor Musun - Sonsuz Yarış</td>\n",
              "      <td>com.yyazilim.biliyormusun</td>\n",
              "      <td>Trivia</td>\n",
              "      <td>5.0</td>\n",
              "      <td>12.0</td>\n",
              "      <td>100+</td>\n",
              "      <td>100.0</td>\n",
              "      <td>354</td>\n",
              "      <td>True</td>\n",
              "      <td>0.0</td>\n",
              "      <td>...</td>\n",
              "      <td>NaN</td>\n",
              "      <td>yyazilimdevelop@gmail.com</td>\n",
              "      <td>Aug 9, 2019</td>\n",
              "      <td>Aug 19, 2019</td>\n",
              "      <td>Everyone</td>\n",
              "      <td>https://biliyor-musun-sons.flycricket.io/priva...</td>\n",
              "      <td>True</td>\n",
              "      <td>False</td>\n",
              "      <td>False</td>\n",
              "      <td>2021-06-16 12:59:19</td>\n",
              "    </tr>\n",
              "  </tbody>\n",
              "</table>\n",
              "<p>2312944 rows × 24 columns</p>\n",
              "</div>\n",
              "      <button class=\"colab-df-convert\" onclick=\"convertToInteractive('df-8e321c74-c81c-4fb9-967b-f51b2934fae6')\"\n",
              "              title=\"Convert this dataframe to an interactive table.\"\n",
              "              style=\"display:none;\">\n",
              "        \n",
              "  <svg xmlns=\"http://www.w3.org/2000/svg\" height=\"24px\"viewBox=\"0 0 24 24\"\n",
              "       width=\"24px\">\n",
              "    <path d=\"M0 0h24v24H0V0z\" fill=\"none\"/>\n",
              "    <path d=\"M18.56 5.44l.94 2.06.94-2.06 2.06-.94-2.06-.94-.94-2.06-.94 2.06-2.06.94zm-11 1L8.5 8.5l.94-2.06 2.06-.94-2.06-.94L8.5 2.5l-.94 2.06-2.06.94zm10 10l.94 2.06.94-2.06 2.06-.94-2.06-.94-.94-2.06-.94 2.06-2.06.94z\"/><path d=\"M17.41 7.96l-1.37-1.37c-.4-.4-.92-.59-1.43-.59-.52 0-1.04.2-1.43.59L10.3 9.45l-7.72 7.72c-.78.78-.78 2.05 0 2.83L4 21.41c.39.39.9.59 1.41.59.51 0 1.02-.2 1.41-.59l7.78-7.78 2.81-2.81c.8-.78.8-2.07 0-2.86zM5.41 20L4 18.59l7.72-7.72 1.47 1.35L5.41 20z\"/>\n",
              "  </svg>\n",
              "      </button>\n",
              "      \n",
              "  <style>\n",
              "    .colab-df-container {\n",
              "      display:flex;\n",
              "      flex-wrap:wrap;\n",
              "      gap: 12px;\n",
              "    }\n",
              "\n",
              "    .colab-df-convert {\n",
              "      background-color: #E8F0FE;\n",
              "      border: none;\n",
              "      border-radius: 50%;\n",
              "      cursor: pointer;\n",
              "      display: none;\n",
              "      fill: #1967D2;\n",
              "      height: 32px;\n",
              "      padding: 0 0 0 0;\n",
              "      width: 32px;\n",
              "    }\n",
              "\n",
              "    .colab-df-convert:hover {\n",
              "      background-color: #E2EBFA;\n",
              "      box-shadow: 0px 1px 2px rgba(60, 64, 67, 0.3), 0px 1px 3px 1px rgba(60, 64, 67, 0.15);\n",
              "      fill: #174EA6;\n",
              "    }\n",
              "\n",
              "    [theme=dark] .colab-df-convert {\n",
              "      background-color: #3B4455;\n",
              "      fill: #D2E3FC;\n",
              "    }\n",
              "\n",
              "    [theme=dark] .colab-df-convert:hover {\n",
              "      background-color: #434B5C;\n",
              "      box-shadow: 0px 1px 3px 1px rgba(0, 0, 0, 0.15);\n",
              "      filter: drop-shadow(0px 1px 2px rgba(0, 0, 0, 0.3));\n",
              "      fill: #FFFFFF;\n",
              "    }\n",
              "  </style>\n",
              "\n",
              "      <script>\n",
              "        const buttonEl =\n",
              "          document.querySelector('#df-8e321c74-c81c-4fb9-967b-f51b2934fae6 button.colab-df-convert');\n",
              "        buttonEl.style.display =\n",
              "          google.colab.kernel.accessAllowed ? 'block' : 'none';\n",
              "\n",
              "        async function convertToInteractive(key) {\n",
              "          const element = document.querySelector('#df-8e321c74-c81c-4fb9-967b-f51b2934fae6');\n",
              "          const dataTable =\n",
              "            await google.colab.kernel.invokeFunction('convertToInteractive',\n",
              "                                                     [key], {});\n",
              "          if (!dataTable) return;\n",
              "\n",
              "          const docLinkHtml = 'Like what you see? Visit the ' +\n",
              "            '<a target=\"_blank\" href=https://colab.research.google.com/notebooks/data_table.ipynb>data table notebook</a>'\n",
              "            + ' to learn more about interactive tables.';\n",
              "          element.innerHTML = '';\n",
              "          dataTable['output_type'] = 'display_data';\n",
              "          await google.colab.output.renderOutput(dataTable, element);\n",
              "          const docLink = document.createElement('div');\n",
              "          docLink.innerHTML = docLinkHtml;\n",
              "          element.appendChild(docLink);\n",
              "        }\n",
              "      </script>\n",
              "    </div>\n",
              "  </div>\n",
              "  "
            ]
          },
          "metadata": {},
          "execution_count": 5
        }
      ]
    },
    {
      "cell_type": "code",
      "source": [
        "my_data['Price'].loc[my_data['Category']=='Adventure'].sum() / len(my_data['Price'].loc[my_data['Category']=='Adventure'])"
      ],
      "metadata": {
        "colab": {
          "base_uri": "https://localhost:8080/"
        },
        "id": "f0Juvj5qYTmE",
        "outputId": "9fb69a29-84f3-4ac6-84b0-f2b8050799ff"
      },
      "execution_count": 6,
      "outputs": [
        {
          "output_type": "execute_result",
          "data": {
            "text/plain": [
              "0.17967864780416326"
            ]
          },
          "metadata": {},
          "execution_count": 6
        }
      ]
    },
    {
      "cell_type": "code",
      "source": [
        "my_data['Price'].loc[my_data['Category']=='Adventure'].mean()"
      ],
      "metadata": {
        "colab": {
          "base_uri": "https://localhost:8080/"
        },
        "id": "aP7k4tnIaJu3",
        "outputId": "bbf83456-c0e0-4dd4-bae3-1d768032b3d8"
      },
      "execution_count": 7,
      "outputs": [
        {
          "output_type": "execute_result",
          "data": {
            "text/plain": [
              "0.17967864780416326"
            ]
          },
          "metadata": {},
          "execution_count": 7
        }
      ]
    },
    {
      "cell_type": "code",
      "source": [
        "category_list = my_data['Category'].unique()\n",
        "print(category_list)"
      ],
      "metadata": {
        "id": "nBNxhwNaaM9B",
        "colab": {
          "base_uri": "https://localhost:8080/"
        },
        "outputId": "0182498a-8b37-4396-870a-212982900745"
      },
      "execution_count": 8,
      "outputs": [
        {
          "output_type": "stream",
          "name": "stdout",
          "text": [
            "['Adventure' 'Tools' 'Productivity' 'Communication' 'Social'\n",
            " 'Libraries & Demo' 'Lifestyle' 'Personalization' 'Racing'\n",
            " 'Maps & Navigation' 'Travel & Local' 'Food & Drink' 'Books & Reference'\n",
            " 'Medical' 'Puzzle' 'Entertainment' 'Arcade' 'Auto & Vehicles'\n",
            " 'Photography' 'Health & Fitness' 'Education' 'Shopping' 'Board'\n",
            " 'Music & Audio' 'Sports' 'Beauty' 'Business' 'Educational' 'Finance'\n",
            " 'News & Magazines' 'Casual' 'Art & Design' 'House & Home' 'Card' 'Events'\n",
            " 'Trivia' 'Weather' 'Strategy' 'Word' 'Video Players & Editors' 'Action'\n",
            " 'Simulation' 'Music' 'Dating' 'Role Playing' 'Casino' 'Comics'\n",
            " 'Parenting']\n"
          ]
        }
      ]
    },
    {
      "cell_type": "code",
      "source": [
        "num_installs=[]\n",
        "\n",
        "for i in my_data:\n",
        "\n",
        "  num_installs.append(my_data['Installs'].loc[my_data['Category']==i])"
      ],
      "metadata": {
        "id": "KxhugOetonGm"
      },
      "execution_count": 9,
      "outputs": []
    },
    {
      "cell_type": "code",
      "source": [
        "df1 = my_data[['Category', 'Installs']]\n",
        "df1['Installs'] = df1['Installs'].str[:-2]\n",
        "df1['Installs'] = df1['Installs'].dropna()\n",
        "df1=df1.dropna()\n",
        "df1 = df1.replace(',','', regex=True)\n",
        "df1 = df1.loc[df1['Installs']!='']\n",
        "df1['Installs'] = [int(x) for x in df1['Installs']]"
      ],
      "metadata": {
        "colab": {
          "base_uri": "https://localhost:8080/"
        },
        "id": "fzDHQAsfqKZK",
        "outputId": "0fb2bbf4-2104-48b2-c4bb-2fc3690f8f53"
      },
      "execution_count": 10,
      "outputs": [
        {
          "output_type": "stream",
          "name": "stderr",
          "text": [
            "/usr/local/lib/python3.7/dist-packages/ipykernel_launcher.py:2: SettingWithCopyWarning: \n",
            "A value is trying to be set on a copy of a slice from a DataFrame.\n",
            "Try using .loc[row_indexer,col_indexer] = value instead\n",
            "\n",
            "See the caveats in the documentation: https://pandas.pydata.org/pandas-docs/stable/user_guide/indexing.html#returning-a-view-versus-a-copy\n",
            "  \n",
            "/usr/local/lib/python3.7/dist-packages/ipykernel_launcher.py:3: SettingWithCopyWarning: \n",
            "A value is trying to be set on a copy of a slice from a DataFrame.\n",
            "Try using .loc[row_indexer,col_indexer] = value instead\n",
            "\n",
            "See the caveats in the documentation: https://pandas.pydata.org/pandas-docs/stable/user_guide/indexing.html#returning-a-view-versus-a-copy\n",
            "  This is separate from the ipykernel package so we can avoid doing imports until\n"
          ]
        }
      ]
    },
    {
      "cell_type": "code",
      "source": [
        "pie1=df1.groupby('Category').sum()\n",
        "pie1"
      ],
      "metadata": {
        "colab": {
          "base_uri": "https://localhost:8080/",
          "height": 1000
        },
        "id": "m_11cByEuHML",
        "outputId": "87304ff7-8766-4d03-8c50-54e65a26da88"
      },
      "execution_count": 11,
      "outputs": [
        {
          "output_type": "execute_result",
          "data": {
            "text/plain": [
              "                           Installs\n",
              "Category                           \n",
              "Action                   1740037231\n",
              "Adventure                 539011566\n",
              "Arcade                   1450131843\n",
              "Art & Design              111639531\n",
              "Auto & Vehicles           159474212\n",
              "Beauty                     40432561\n",
              "Board                     329082505\n",
              "Books & Reference         482018553\n",
              "Business                  523662580\n",
              "Card                      198932807\n",
              "Casino                    124961366\n",
              "Casual                   1683705895\n",
              "Comics                     39760210\n",
              "Communication            4321658585\n",
              "Dating                     64326717\n",
              "Education                 598403003\n",
              "Educational               473079732\n",
              "Entertainment            1710848829\n",
              "Events                      7301305\n",
              "Finance                   615847935\n",
              "Food & Drink              162346716\n",
              "Health & Fitness          458657677\n",
              "House & Home               46379792\n",
              "Libraries & Demo           28911693\n",
              "Lifestyle                 599790200\n",
              "Maps & Navigation         268303934\n",
              "Medical                    65711402\n",
              "Music                     163060052\n",
              "Music & Audio            1423938678\n",
              "News & Magazines          454889289\n",
              "Parenting                  24413340\n",
              "Personalization           925297048\n",
              "Photography              1899895570\n",
              "Productivity             2831403469\n",
              "Puzzle                   1079641911\n",
              "Racing                    921808053\n",
              "Role Playing              476598714\n",
              "Shopping                  710868306\n",
              "Simulation               1169001945\n",
              "Social                   1716598767\n",
              "Sports                    795412125\n",
              "Strategy                  415617258\n",
              "Tools                    7144044856\n",
              "Travel & Local            972620915\n",
              "Trivia                    118896100\n",
              "Video Players & Editors  1859115347\n",
              "Weather                   277390048\n",
              "Word                      202914240"
            ],
            "text/html": [
              "\n",
              "  <div id=\"df-8e768bd8-77c0-4939-b098-222dd6d38166\">\n",
              "    <div class=\"colab-df-container\">\n",
              "      <div>\n",
              "<style scoped>\n",
              "    .dataframe tbody tr th:only-of-type {\n",
              "        vertical-align: middle;\n",
              "    }\n",
              "\n",
              "    .dataframe tbody tr th {\n",
              "        vertical-align: top;\n",
              "    }\n",
              "\n",
              "    .dataframe thead th {\n",
              "        text-align: right;\n",
              "    }\n",
              "</style>\n",
              "<table border=\"1\" class=\"dataframe\">\n",
              "  <thead>\n",
              "    <tr style=\"text-align: right;\">\n",
              "      <th></th>\n",
              "      <th>Installs</th>\n",
              "    </tr>\n",
              "    <tr>\n",
              "      <th>Category</th>\n",
              "      <th></th>\n",
              "    </tr>\n",
              "  </thead>\n",
              "  <tbody>\n",
              "    <tr>\n",
              "      <th>Action</th>\n",
              "      <td>1740037231</td>\n",
              "    </tr>\n",
              "    <tr>\n",
              "      <th>Adventure</th>\n",
              "      <td>539011566</td>\n",
              "    </tr>\n",
              "    <tr>\n",
              "      <th>Arcade</th>\n",
              "      <td>1450131843</td>\n",
              "    </tr>\n",
              "    <tr>\n",
              "      <th>Art &amp; Design</th>\n",
              "      <td>111639531</td>\n",
              "    </tr>\n",
              "    <tr>\n",
              "      <th>Auto &amp; Vehicles</th>\n",
              "      <td>159474212</td>\n",
              "    </tr>\n",
              "    <tr>\n",
              "      <th>Beauty</th>\n",
              "      <td>40432561</td>\n",
              "    </tr>\n",
              "    <tr>\n",
              "      <th>Board</th>\n",
              "      <td>329082505</td>\n",
              "    </tr>\n",
              "    <tr>\n",
              "      <th>Books &amp; Reference</th>\n",
              "      <td>482018553</td>\n",
              "    </tr>\n",
              "    <tr>\n",
              "      <th>Business</th>\n",
              "      <td>523662580</td>\n",
              "    </tr>\n",
              "    <tr>\n",
              "      <th>Card</th>\n",
              "      <td>198932807</td>\n",
              "    </tr>\n",
              "    <tr>\n",
              "      <th>Casino</th>\n",
              "      <td>124961366</td>\n",
              "    </tr>\n",
              "    <tr>\n",
              "      <th>Casual</th>\n",
              "      <td>1683705895</td>\n",
              "    </tr>\n",
              "    <tr>\n",
              "      <th>Comics</th>\n",
              "      <td>39760210</td>\n",
              "    </tr>\n",
              "    <tr>\n",
              "      <th>Communication</th>\n",
              "      <td>4321658585</td>\n",
              "    </tr>\n",
              "    <tr>\n",
              "      <th>Dating</th>\n",
              "      <td>64326717</td>\n",
              "    </tr>\n",
              "    <tr>\n",
              "      <th>Education</th>\n",
              "      <td>598403003</td>\n",
              "    </tr>\n",
              "    <tr>\n",
              "      <th>Educational</th>\n",
              "      <td>473079732</td>\n",
              "    </tr>\n",
              "    <tr>\n",
              "      <th>Entertainment</th>\n",
              "      <td>1710848829</td>\n",
              "    </tr>\n",
              "    <tr>\n",
              "      <th>Events</th>\n",
              "      <td>7301305</td>\n",
              "    </tr>\n",
              "    <tr>\n",
              "      <th>Finance</th>\n",
              "      <td>615847935</td>\n",
              "    </tr>\n",
              "    <tr>\n",
              "      <th>Food &amp; Drink</th>\n",
              "      <td>162346716</td>\n",
              "    </tr>\n",
              "    <tr>\n",
              "      <th>Health &amp; Fitness</th>\n",
              "      <td>458657677</td>\n",
              "    </tr>\n",
              "    <tr>\n",
              "      <th>House &amp; Home</th>\n",
              "      <td>46379792</td>\n",
              "    </tr>\n",
              "    <tr>\n",
              "      <th>Libraries &amp; Demo</th>\n",
              "      <td>28911693</td>\n",
              "    </tr>\n",
              "    <tr>\n",
              "      <th>Lifestyle</th>\n",
              "      <td>599790200</td>\n",
              "    </tr>\n",
              "    <tr>\n",
              "      <th>Maps &amp; Navigation</th>\n",
              "      <td>268303934</td>\n",
              "    </tr>\n",
              "    <tr>\n",
              "      <th>Medical</th>\n",
              "      <td>65711402</td>\n",
              "    </tr>\n",
              "    <tr>\n",
              "      <th>Music</th>\n",
              "      <td>163060052</td>\n",
              "    </tr>\n",
              "    <tr>\n",
              "      <th>Music &amp; Audio</th>\n",
              "      <td>1423938678</td>\n",
              "    </tr>\n",
              "    <tr>\n",
              "      <th>News &amp; Magazines</th>\n",
              "      <td>454889289</td>\n",
              "    </tr>\n",
              "    <tr>\n",
              "      <th>Parenting</th>\n",
              "      <td>24413340</td>\n",
              "    </tr>\n",
              "    <tr>\n",
              "      <th>Personalization</th>\n",
              "      <td>925297048</td>\n",
              "    </tr>\n",
              "    <tr>\n",
              "      <th>Photography</th>\n",
              "      <td>1899895570</td>\n",
              "    </tr>\n",
              "    <tr>\n",
              "      <th>Productivity</th>\n",
              "      <td>2831403469</td>\n",
              "    </tr>\n",
              "    <tr>\n",
              "      <th>Puzzle</th>\n",
              "      <td>1079641911</td>\n",
              "    </tr>\n",
              "    <tr>\n",
              "      <th>Racing</th>\n",
              "      <td>921808053</td>\n",
              "    </tr>\n",
              "    <tr>\n",
              "      <th>Role Playing</th>\n",
              "      <td>476598714</td>\n",
              "    </tr>\n",
              "    <tr>\n",
              "      <th>Shopping</th>\n",
              "      <td>710868306</td>\n",
              "    </tr>\n",
              "    <tr>\n",
              "      <th>Simulation</th>\n",
              "      <td>1169001945</td>\n",
              "    </tr>\n",
              "    <tr>\n",
              "      <th>Social</th>\n",
              "      <td>1716598767</td>\n",
              "    </tr>\n",
              "    <tr>\n",
              "      <th>Sports</th>\n",
              "      <td>795412125</td>\n",
              "    </tr>\n",
              "    <tr>\n",
              "      <th>Strategy</th>\n",
              "      <td>415617258</td>\n",
              "    </tr>\n",
              "    <tr>\n",
              "      <th>Tools</th>\n",
              "      <td>7144044856</td>\n",
              "    </tr>\n",
              "    <tr>\n",
              "      <th>Travel &amp; Local</th>\n",
              "      <td>972620915</td>\n",
              "    </tr>\n",
              "    <tr>\n",
              "      <th>Trivia</th>\n",
              "      <td>118896100</td>\n",
              "    </tr>\n",
              "    <tr>\n",
              "      <th>Video Players &amp; Editors</th>\n",
              "      <td>1859115347</td>\n",
              "    </tr>\n",
              "    <tr>\n",
              "      <th>Weather</th>\n",
              "      <td>277390048</td>\n",
              "    </tr>\n",
              "    <tr>\n",
              "      <th>Word</th>\n",
              "      <td>202914240</td>\n",
              "    </tr>\n",
              "  </tbody>\n",
              "</table>\n",
              "</div>\n",
              "      <button class=\"colab-df-convert\" onclick=\"convertToInteractive('df-8e768bd8-77c0-4939-b098-222dd6d38166')\"\n",
              "              title=\"Convert this dataframe to an interactive table.\"\n",
              "              style=\"display:none;\">\n",
              "        \n",
              "  <svg xmlns=\"http://www.w3.org/2000/svg\" height=\"24px\"viewBox=\"0 0 24 24\"\n",
              "       width=\"24px\">\n",
              "    <path d=\"M0 0h24v24H0V0z\" fill=\"none\"/>\n",
              "    <path d=\"M18.56 5.44l.94 2.06.94-2.06 2.06-.94-2.06-.94-.94-2.06-.94 2.06-2.06.94zm-11 1L8.5 8.5l.94-2.06 2.06-.94-2.06-.94L8.5 2.5l-.94 2.06-2.06.94zm10 10l.94 2.06.94-2.06 2.06-.94-2.06-.94-.94-2.06-.94 2.06-2.06.94z\"/><path d=\"M17.41 7.96l-1.37-1.37c-.4-.4-.92-.59-1.43-.59-.52 0-1.04.2-1.43.59L10.3 9.45l-7.72 7.72c-.78.78-.78 2.05 0 2.83L4 21.41c.39.39.9.59 1.41.59.51 0 1.02-.2 1.41-.59l7.78-7.78 2.81-2.81c.8-.78.8-2.07 0-2.86zM5.41 20L4 18.59l7.72-7.72 1.47 1.35L5.41 20z\"/>\n",
              "  </svg>\n",
              "      </button>\n",
              "      \n",
              "  <style>\n",
              "    .colab-df-container {\n",
              "      display:flex;\n",
              "      flex-wrap:wrap;\n",
              "      gap: 12px;\n",
              "    }\n",
              "\n",
              "    .colab-df-convert {\n",
              "      background-color: #E8F0FE;\n",
              "      border: none;\n",
              "      border-radius: 50%;\n",
              "      cursor: pointer;\n",
              "      display: none;\n",
              "      fill: #1967D2;\n",
              "      height: 32px;\n",
              "      padding: 0 0 0 0;\n",
              "      width: 32px;\n",
              "    }\n",
              "\n",
              "    .colab-df-convert:hover {\n",
              "      background-color: #E2EBFA;\n",
              "      box-shadow: 0px 1px 2px rgba(60, 64, 67, 0.3), 0px 1px 3px 1px rgba(60, 64, 67, 0.15);\n",
              "      fill: #174EA6;\n",
              "    }\n",
              "\n",
              "    [theme=dark] .colab-df-convert {\n",
              "      background-color: #3B4455;\n",
              "      fill: #D2E3FC;\n",
              "    }\n",
              "\n",
              "    [theme=dark] .colab-df-convert:hover {\n",
              "      background-color: #434B5C;\n",
              "      box-shadow: 0px 1px 3px 1px rgba(0, 0, 0, 0.15);\n",
              "      filter: drop-shadow(0px 1px 2px rgba(0, 0, 0, 0.3));\n",
              "      fill: #FFFFFF;\n",
              "    }\n",
              "  </style>\n",
              "\n",
              "      <script>\n",
              "        const buttonEl =\n",
              "          document.querySelector('#df-8e768bd8-77c0-4939-b098-222dd6d38166 button.colab-df-convert');\n",
              "        buttonEl.style.display =\n",
              "          google.colab.kernel.accessAllowed ? 'block' : 'none';\n",
              "\n",
              "        async function convertToInteractive(key) {\n",
              "          const element = document.querySelector('#df-8e768bd8-77c0-4939-b098-222dd6d38166');\n",
              "          const dataTable =\n",
              "            await google.colab.kernel.invokeFunction('convertToInteractive',\n",
              "                                                     [key], {});\n",
              "          if (!dataTable) return;\n",
              "\n",
              "          const docLinkHtml = 'Like what you see? Visit the ' +\n",
              "            '<a target=\"_blank\" href=https://colab.research.google.com/notebooks/data_table.ipynb>data table notebook</a>'\n",
              "            + ' to learn more about interactive tables.';\n",
              "          element.innerHTML = '';\n",
              "          dataTable['output_type'] = 'display_data';\n",
              "          await google.colab.output.renderOutput(dataTable, element);\n",
              "          const docLink = document.createElement('div');\n",
              "          docLink.innerHTML = docLinkHtml;\n",
              "          element.appendChild(docLink);\n",
              "        }\n",
              "      </script>\n",
              "    </div>\n",
              "  </div>\n",
              "  "
            ]
          },
          "metadata": {},
          "execution_count": 11
        }
      ]
    },
    {
      "cell_type": "code",
      "source": [
        "plt.pie(pie1, labels=pie1.index)\n",
        "plt.show()"
      ],
      "metadata": {
        "colab": {
          "base_uri": "https://localhost:8080/",
          "height": 304
        },
        "id": "SJraJC99p6gy",
        "outputId": "2209dd3c-31e1-4e8f-8921-826711fae92f"
      },
      "execution_count": 12,
      "outputs": [
        {
          "output_type": "stream",
          "name": "stderr",
          "text": [
            "/usr/local/lib/python3.7/dist-packages/ipykernel_launcher.py:1: MatplotlibDeprecationWarning: Non-1D inputs to pie() are currently squeeze()d, but this behavior is deprecated since 3.1 and will be removed in 3.3; pass a 1D array instead.\n",
            "  \"\"\"Entry point for launching an IPython kernel.\n"
          ]
        },
        {
          "output_type": "display_data",
          "data": {
            "text/plain": [
              "<Figure size 432x288 with 1 Axes>"
            ],
            "image/png": "[encoded data removed]"
          },
          "metadata": {}
        }
      ]
    },
    {
      "cell_type": "code",
      "source": [
        "avg_price = []\n",
        "for i in category_list:\n",
        "  avg_price.append(my_data['Price'].loc[my_data['Category']==i].mean())"
      ],
      "metadata": {
        "id": "b6fZbzjjaEjZ"
      },
      "execution_count": 13,
      "outputs": []
    },
    {
      "cell_type": "code",
      "source": [
        "sns.set_style('darkgrid')\n",
        "sns_bar = sns.barplot(x = category_list, y = avg_price)\n",
        "sns_bar.set_xticklabels(labels=category_list,rotation=90)\n",
        "sns_bar.tick_params(axis='x', which='major', labelsize=7)\n",
        "sns_bar"
      ],
      "metadata": {
        "colab": {
          "base_uri": "https://localhost:8080/",
          "height": 355
        },
        "id": "GjCHZKqiaB9y",
        "outputId": "84af6412-5ca4-4c8d-e63c-dde00c317d84"
      },
      "execution_count": 14,
      "outputs": [
        {
          "output_type": "execute_result",
          "data": {
            "text/plain": [
              "<matplotlib.axes._subplots.AxesSubplot at 0x7f3a6024fa10>"
            ]
          },
          "metadata": {},
          "execution_count": 14
        },
        {
          "output_type": "display_data",
          "data": {
            "text/plain": [
              "<Figure size 432x288 with 1 Axes>"
            ],
            "image/png": "[encoded data removed]"
          },
          "metadata": {}
        }
      ]
    },
    {
      "cell_type": "code",
      "source": [
        "rating_list = my_data['Rating'].unique()\n",
        "print(rating_list)"
      ],
      "metadata": {
        "id": "Unpij8NMjEj3",
        "colab": {
          "base_uri": "https://localhost:8080/"
        },
        "outputId": "80cb9a53-b886-418a-f8fb-2aad6421d5b1"
      },
      "execution_count": 15,
      "outputs": [
        {
          "output_type": "stream",
          "name": "stdout",
          "text": [
            "[0.  4.4 5.  4.5 2.  4.7 4.9 3.9 3.7 4.2 3.4 3.8 4.6 4.1 2.5 2.3 2.1 2.7\n",
            " 4.3 3.1 4.8 3.3 4.  2.4 3.2 3.6 2.6 nan 1.5 3.5 2.9 1.3 2.8 3.  2.2 1.8\n",
            " 1.4 1.2 1.9 1.7 1.6 1.  1.1]\n"
          ]
        }
      ]
    },
    {
      "cell_type": "code",
      "source": [
        "my_data['Rating'].loc[my_data['Free']==True].mean()"
      ],
      "metadata": {
        "colab": {
          "base_uri": "https://localhost:8080/"
        },
        "id": "CkgYU0OxnuK2",
        "outputId": "a5de6c9d-a4e4-4aa1-80e5-20714c648e08"
      },
      "execution_count": 16,
      "outputs": [
        {
          "output_type": "execute_result",
          "data": {
            "text/plain": [
              "2.199949938090701"
            ]
          },
          "metadata": {},
          "execution_count": 16
        }
      ]
    },
    {
      "cell_type": "code",
      "source": [
        "my_data['Price'].loc[my_data['Free']==False]"
      ],
      "metadata": {
        "colab": {
          "base_uri": "https://localhost:8080/"
        },
        "id": "QLAf_CTonqSA",
        "outputId": "36a80781-6b54-4064-dd21-5afd45dcb4cf"
      },
      "execution_count": 17,
      "outputs": [
        {
          "output_type": "execute_result",
          "data": {
            "text/plain": [
              "273        1.99\n",
              "296        4.99\n",
              "417        0.99\n",
              "554        2.99\n",
              "618        0.99\n",
              "           ... \n",
              "2312658    1.99\n",
              "2312686    1.49\n",
              "2312703    7.99\n",
              "2312803    0.99\n",
              "2312927    2.49\n",
              "Name: Price, Length: 45068, dtype: float64"
            ]
          },
          "metadata": {},
          "execution_count": 17
        }
      ]
    },
    {
      "cell_type": "code",
      "source": [
        "list_x = ['Free', 'Not Free']\n",
        "list_y = [2.199949938090701, 2.3634575500100357]"
      ],
      "metadata": {
        "id": "rK3s9ommhQe1"
      },
      "execution_count": 18,
      "outputs": []
    },
    {
      "cell_type": "code",
      "source": [
        "rawr_bar = sns.barplot(x = list_x, y = list_y)\n",
        "rawr_bar"
      ],
      "metadata": {
        "id": "35PjJWndfx27",
        "colab": {
          "base_uri": "https://localhost:8080/",
          "height": 283
        },
        "outputId": "9347f2b1-9f09-4699-9433-bc6b35d058c5"
      },
      "execution_count": 19,
      "outputs": [
        {
          "output_type": "execute_result",
          "data": {
            "text/plain": [
              "<matplotlib.axes._subplots.AxesSubplot at 0x7f3a6b6f2810>"
            ]
          },
          "metadata": {},
          "execution_count": 19
        },
        {
          "output_type": "display_data",
          "data": {
            "text/plain": [
              "<Figure size 432x288 with 1 Axes>"
            ],
            "image/png": "[encoded data removed]"
          },
          "metadata": {}
        }
      ]
    },
    {
      "cell_type": "code",
      "source": [],
      "metadata": {
        "id": "c49YRj3TmVr_"
      },
      "execution_count": 19,
      "outputs": []
    }
  ]
}